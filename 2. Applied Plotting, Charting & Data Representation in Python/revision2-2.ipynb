import pandas as pd
import numpy as np
from datetime import datetime as dt

df = pd.read_csv('data/C2A2_data/BinnedCsvs_d400/fb441e62df2d58994928907a91895ec62c2c42e6cd075c2700843b89.csv')
df.sort(['ID','Date'], inplace = True)
# df['Date'] = df['Date'].apply(lambda s: dt.strptime(s, "%Y-%m-%d")).dt.strftime("%y-%B-%d")

df['Year'], df['Month-Date'] = zip(*df['Date'].apply(lambda x: (x[:4], x[5:])))
df = df[df['Month-Date'] != '02-29']

# find the max and min of year 2005 to 2014
temp_min = df[(df['Element'] == 'TMIN') & (df['Year'] != '2015')].groupby('Month-Date').aggregate({'Data_Value':np.min})
temp_max = df[(df['Element'] == 'TMAX') & (df['Year'] != '2015')].groupby('Month-Date').aggregate({'Data_Value':np.max})
# find the max and min of year 2015
temp_min_15 = df[(df['Element'] == 'TMIN') & (df['Year'] == '2015')].groupby('Month-Date').aggregate({'Data_Value':np.min})
temp_max_15 = df[(df['Element'] == 'TMAX') & (df['Year'] == '2015')].groupby('Month-Date').aggregate({'Data_Value':np.max})
# any points (highs and lows) for which the ten year record (2005-2014) record high or record low was broken in 2015
broken_min = np.where(temp_min_15['Data_Value'] < temp_min['Data_Value'])[0]
broken_max = np.where(temp_max_15['Data_Value'] > temp_max['Data_Value'])[0]


# plot configuration
plt.figure()
plt.plot(temp_max.values, 'm:', label = 'record high (2005-2014)')
plt.plot(temp_min.values, 'g:', label = 'record low (2005-2014)')
plt.gca().fill_between(range(len(temp_min)), temp_min['Data_Value'], temp_max['Data_Value'], facecolor = 'yellow', alpha = 0.1)
plt.scatter(broken_max, temp_max_15.iloc[broken_max], s = 10, c = 'r', label = 'broken high (2015)')
plt.scatter(broken_min, temp_min_15.iloc[broken_min], s = 10, c = 'b', label = 'broken low (2015)')

plt.gca().axis([-5, 370, -500, 900])
plt.xticks(range(0, len(temp_min), 14), temp_min.index[range(0, len(temp_min), 14)], rotation = '-60')
plt.xlabel('Day (bi-weekly) of the Year')
plt.ylabel('Temperature (Tenths of Degrees C)')
plt.title('Temperature 2005-2014 vs 2015 Comparsion \n near Ann Arbor, Michigan, United States')
plt.legend(loc = 1, frameon = True)

plt.show()
