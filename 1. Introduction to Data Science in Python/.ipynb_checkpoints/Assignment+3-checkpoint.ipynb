{
 "cells": [
  {
   "cell_type": "markdown",
   "metadata": {},
   "source": [
    "---\n",
    "\n",
    "_You are currently looking at **version 1.5** of this notebook. To download notebooks and datafiles, as well as get help on Jupyter notebooks in the Coursera platform, visit the [Jupyter Notebook FAQ](https://www.coursera.org/learn/python-data-analysis/resources/0dhYG) course resource._\n",
    "\n",
    "---"
   ]
  },
  {
   "cell_type": "markdown",
   "metadata": {},
   "source": [
    "# Assignment 3 - More Pandas\n",
    "This assignment requires more individual learning then the last one did - you are encouraged to check out the [pandas documentation](http://pandas.pydata.org/pandas-docs/stable/) to find functions or methods you might not have used yet, or ask questions on [Stack Overflow](http://stackoverflow.com/) and tag them as pandas and python related. And of course, the discussion forums are open for interaction with your peers and the course staff."
   ]
  },
  {
   "cell_type": "markdown",
   "metadata": {},
   "source": [
    "### Question 1 (20%)\n",
    "Load the energy data from the file `Energy Indicators.xls`, which is a list of indicators of [energy supply and renewable electricity production](Energy%20Indicators.xls) from the [United Nations](http://unstats.un.org/unsd/environment/excel_file_tables/2013/Energy%20Indicators.xls) for the year 2013, and should be put into a DataFrame with the variable name of **energy**.\n",
    "\n",
    "Keep in mind that this is an Excel file, and not a comma separated values file. Also, make sure to exclude the footer and header information from the datafile. The first two columns are unneccessary, so you should get rid of them, and you should change the column labels so that the columns are:\n",
    "\n",
    "`['Country', 'Energy Supply', 'Energy Supply per Capita', '% Renewable']`\n",
    "\n",
    "Convert `Energy Supply` to gigajoules (there are 1,000,000 gigajoules in a petajoule). For all countries which have missing data (e.g. data with \"...\") make sure this is reflected as `np.NaN` values.\n",
    "\n",
    "Rename the following list of countries (for use in later questions):\n",
    "\n",
    "```\"Republic of Korea\": \"South Korea\",\n",
    "\"United States of America\": \"United States\",\n",
    "\"United Kingdom of Great Britain and Northern Ireland\": \"United Kingdom\",\n",
    "\"China, Hong Kong Special Administrative Region\": \"Hong Kong\"```\n",
    "\n",
    "There are also several countries with numbers and/or parenthesis in their name. Be sure to remove these, \n",
    "\n",
    "e.g. \n",
    "\n",
    "`'Bolivia (Plurinational State of)'` should be `'Bolivia'`, \n",
    "\n",
    "`'Switzerland17'` should be `'Switzerland'`.\n",
    "\n",
    "<br>\n",
    "\n",
    "Next, load the GDP data from the file `world_bank.csv`, which is a csv containing countries' GDP from 1960 to 2015 from [World Bank](http://data.worldbank.org/indicator/NY.GDP.MKTP.CD). Call this DataFrame **GDP**. \n",
    "\n",
    "Make sure to skip the header, and rename the following list of countries:\n",
    "\n",
    "```\"Korea, Rep.\": \"South Korea\", \n",
    "\"Iran, Islamic Rep.\": \"Iran\",\n",
    "\"Hong Kong SAR, China\": \"Hong Kong\"```\n",
    "\n",
    "<br>\n",
    "\n",
    "Finally, load the [Sciamgo Journal and Country Rank data for Energy Engineering and Power Technology](http://www.scimagojr.com/countryrank.php?category=2102) from the file `scimagojr-3.xlsx`, which ranks countries based on their journal contributions in the aforementioned area. Call this DataFrame **ScimEn**.\n",
    "\n",
    "Join the three datasets: GDP, Energy, and ScimEn into a new dataset (using the intersection of country names). Use only the last 10 years (2006-2015) of GDP data and only the top 15 countries by Scimagojr 'Rank' (Rank 1 through 15). \n",
    "\n",
    "The index of this DataFrame should be the name of the country, and the columns should be ['Rank', 'Documents', 'Citable documents', 'Citations', 'Self-citations',\n",
    "       'Citations per document', 'H index', 'Energy Supply',\n",
    "       'Energy Supply per Capita', '% Renewable', '2006', '2007', '2008',\n",
    "       '2009', '2010', '2011', '2012', '2013', '2014', '2015'].\n",
    "\n",
    "*This function should return a DataFrame with 20 columns and 15 entries.*"
   ]
  },
  {
   "cell_type": "code",
   "execution_count": 2,
   "metadata": {
    "umich_part_id": "009",
    "umich_partlist_id": "003"
   },
   "outputs": [
    {
     "data": {
      "text/html": [
       "<div>\n",
       "<style scoped>\n",
       "    .dataframe tbody tr th:only-of-type {\n",
       "        vertical-align: middle;\n",
       "    }\n",
       "\n",
       "    .dataframe tbody tr th {\n",
       "        vertical-align: top;\n",
       "    }\n",
       "\n",
       "    .dataframe thead th {\n",
       "        text-align: right;\n",
       "    }\n",
       "</style>\n",
       "<table border=\"1\" class=\"dataframe\">\n",
       "  <thead>\n",
       "    <tr style=\"text-align: right;\">\n",
       "      <th></th>\n",
       "      <th>Rank</th>\n",
       "      <th>Documents</th>\n",
       "      <th>Citable documents</th>\n",
       "      <th>Citations</th>\n",
       "      <th>Self-citations</th>\n",
       "      <th>Citations per document</th>\n",
       "      <th>H index</th>\n",
       "      <th>Energy Supply</th>\n",
       "      <th>Energy Supply per Capita</th>\n",
       "      <th>% Renewable</th>\n",
       "      <th>2006</th>\n",
       "      <th>2007</th>\n",
       "      <th>2008</th>\n",
       "      <th>2009</th>\n",
       "      <th>2010</th>\n",
       "      <th>2011</th>\n",
       "      <th>2012</th>\n",
       "      <th>2013</th>\n",
       "      <th>2014</th>\n",
       "      <th>2015</th>\n",
       "    </tr>\n",
       "    <tr>\n",
       "      <th>Country</th>\n",
       "      <th></th>\n",
       "      <th></th>\n",
       "      <th></th>\n",
       "      <th></th>\n",
       "      <th></th>\n",
       "      <th></th>\n",
       "      <th></th>\n",
       "      <th></th>\n",
       "      <th></th>\n",
       "      <th></th>\n",
       "      <th></th>\n",
       "      <th></th>\n",
       "      <th></th>\n",
       "      <th></th>\n",
       "      <th></th>\n",
       "      <th></th>\n",
       "      <th></th>\n",
       "      <th></th>\n",
       "      <th></th>\n",
       "      <th></th>\n",
       "    </tr>\n",
       "  </thead>\n",
       "  <tbody>\n",
       "    <tr>\n",
       "      <th>China</th>\n",
       "      <td>1</td>\n",
       "      <td>147887</td>\n",
       "      <td>147512</td>\n",
       "      <td>856806</td>\n",
       "      <td>583858</td>\n",
       "      <td>5.79</td>\n",
       "      <td>162</td>\n",
       "      <td>1.271910e+11</td>\n",
       "      <td>93.0</td>\n",
       "      <td>19.754910</td>\n",
       "      <td>2.752132e+12</td>\n",
       "      <td>3.552182e+12</td>\n",
       "      <td>4.598206e+12</td>\n",
       "      <td>5.109954e+12</td>\n",
       "      <td>6.100620e+12</td>\n",
       "      <td>7.572554e+12</td>\n",
       "      <td>8.560547e+12</td>\n",
       "      <td>9.607224e+12</td>\n",
       "      <td>1.048237e+13</td>\n",
       "      <td>1.106467e+13</td>\n",
       "    </tr>\n",
       "    <tr>\n",
       "      <th>United States</th>\n",
       "      <td>2</td>\n",
       "      <td>113579</td>\n",
       "      <td>111426</td>\n",
       "      <td>1085684</td>\n",
       "      <td>370574</td>\n",
       "      <td>9.56</td>\n",
       "      <td>259</td>\n",
       "      <td>9.083800e+10</td>\n",
       "      <td>286.0</td>\n",
       "      <td>11.570980</td>\n",
       "      <td>1.385589e+13</td>\n",
       "      <td>1.447764e+13</td>\n",
       "      <td>1.471858e+13</td>\n",
       "      <td>1.441874e+13</td>\n",
       "      <td>1.496437e+13</td>\n",
       "      <td>1.551793e+13</td>\n",
       "      <td>1.615526e+13</td>\n",
       "      <td>1.669152e+13</td>\n",
       "      <td>1.742761e+13</td>\n",
       "      <td>1.812071e+13</td>\n",
       "    </tr>\n",
       "    <tr>\n",
       "      <th>Japan</th>\n",
       "      <td>3</td>\n",
       "      <td>34294</td>\n",
       "      <td>34054</td>\n",
       "      <td>275980</td>\n",
       "      <td>73491</td>\n",
       "      <td>8.05</td>\n",
       "      <td>145</td>\n",
       "      <td>1.898400e+10</td>\n",
       "      <td>149.0</td>\n",
       "      <td>10.232820</td>\n",
       "      <td>4.530377e+12</td>\n",
       "      <td>4.515265e+12</td>\n",
       "      <td>5.037908e+12</td>\n",
       "      <td>5.231383e+12</td>\n",
       "      <td>5.700098e+12</td>\n",
       "      <td>6.157460e+12</td>\n",
       "      <td>6.203213e+12</td>\n",
       "      <td>5.155717e+12</td>\n",
       "      <td>4.850414e+12</td>\n",
       "      <td>4.394978e+12</td>\n",
       "    </tr>\n",
       "    <tr>\n",
       "      <th>United Kingdom</th>\n",
       "      <td>4</td>\n",
       "      <td>24328</td>\n",
       "      <td>23671</td>\n",
       "      <td>278694</td>\n",
       "      <td>52119</td>\n",
       "      <td>11.46</td>\n",
       "      <td>159</td>\n",
       "      <td>7.920000e+09</td>\n",
       "      <td>124.0</td>\n",
       "      <td>10.600470</td>\n",
       "      <td>2.692613e+12</td>\n",
       "      <td>3.074360e+12</td>\n",
       "      <td>2.890564e+12</td>\n",
       "      <td>2.382826e+12</td>\n",
       "      <td>2.441173e+12</td>\n",
       "      <td>2.619700e+12</td>\n",
       "      <td>2.662085e+12</td>\n",
       "      <td>2.739819e+12</td>\n",
       "      <td>3.022828e+12</td>\n",
       "      <td>2.885570e+12</td>\n",
       "    </tr>\n",
       "    <tr>\n",
       "      <th>India</th>\n",
       "      <td>5</td>\n",
       "      <td>21450</td>\n",
       "      <td>21183</td>\n",
       "      <td>179494</td>\n",
       "      <td>54929</td>\n",
       "      <td>8.37</td>\n",
       "      <td>132</td>\n",
       "      <td>3.319500e+10</td>\n",
       "      <td>26.0</td>\n",
       "      <td>14.969080</td>\n",
       "      <td>9.203165e+11</td>\n",
       "      <td>1.201112e+12</td>\n",
       "      <td>1.186953e+12</td>\n",
       "      <td>1.323940e+12</td>\n",
       "      <td>1.656617e+12</td>\n",
       "      <td>1.823050e+12</td>\n",
       "      <td>1.827638e+12</td>\n",
       "      <td>1.856722e+12</td>\n",
       "      <td>2.035393e+12</td>\n",
       "      <td>2.089865e+12</td>\n",
       "    </tr>\n",
       "    <tr>\n",
       "      <th>Russian Federation</th>\n",
       "      <td>6</td>\n",
       "      <td>21259</td>\n",
       "      <td>20915</td>\n",
       "      <td>45629</td>\n",
       "      <td>17368</td>\n",
       "      <td>2.15</td>\n",
       "      <td>65</td>\n",
       "      <td>3.070900e+10</td>\n",
       "      <td>214.0</td>\n",
       "      <td>17.288680</td>\n",
       "      <td>9.899305e+11</td>\n",
       "      <td>1.299705e+12</td>\n",
       "      <td>1.660844e+12</td>\n",
       "      <td>1.222644e+12</td>\n",
       "      <td>1.524916e+12</td>\n",
       "      <td>2.051662e+12</td>\n",
       "      <td>2.210257e+12</td>\n",
       "      <td>2.297128e+12</td>\n",
       "      <td>2.063663e+12</td>\n",
       "      <td>1.365864e+12</td>\n",
       "    </tr>\n",
       "    <tr>\n",
       "      <th>Germany</th>\n",
       "      <td>7</td>\n",
       "      <td>20898</td>\n",
       "      <td>20640</td>\n",
       "      <td>193676</td>\n",
       "      <td>39615</td>\n",
       "      <td>9.27</td>\n",
       "      <td>140</td>\n",
       "      <td>1.326100e+10</td>\n",
       "      <td>165.0</td>\n",
       "      <td>17.901530</td>\n",
       "      <td>3.002446e+12</td>\n",
       "      <td>3.439953e+12</td>\n",
       "      <td>3.752366e+12</td>\n",
       "      <td>3.418005e+12</td>\n",
       "      <td>3.417095e+12</td>\n",
       "      <td>3.757698e+12</td>\n",
       "      <td>3.543984e+12</td>\n",
       "      <td>3.752514e+12</td>\n",
       "      <td>3.890607e+12</td>\n",
       "      <td>3.375611e+12</td>\n",
       "    </tr>\n",
       "    <tr>\n",
       "      <th>Canada</th>\n",
       "      <td>8</td>\n",
       "      <td>20689</td>\n",
       "      <td>20353</td>\n",
       "      <td>285554</td>\n",
       "      <td>53955</td>\n",
       "      <td>13.80</td>\n",
       "      <td>165</td>\n",
       "      <td>1.043100e+10</td>\n",
       "      <td>296.0</td>\n",
       "      <td>61.945430</td>\n",
       "      <td>1.315415e+12</td>\n",
       "      <td>1.464977e+12</td>\n",
       "      <td>1.549131e+12</td>\n",
       "      <td>1.371153e+12</td>\n",
       "      <td>1.613464e+12</td>\n",
       "      <td>1.788648e+12</td>\n",
       "      <td>1.824289e+12</td>\n",
       "      <td>1.842628e+12</td>\n",
       "      <td>1.799269e+12</td>\n",
       "      <td>1.559623e+12</td>\n",
       "    </tr>\n",
       "    <tr>\n",
       "      <th>France</th>\n",
       "      <td>9</td>\n",
       "      <td>15584</td>\n",
       "      <td>15387</td>\n",
       "      <td>173959</td>\n",
       "      <td>37411</td>\n",
       "      <td>11.16</td>\n",
       "      <td>129</td>\n",
       "      <td>1.059700e+10</td>\n",
       "      <td>166.0</td>\n",
       "      <td>17.020280</td>\n",
       "      <td>2.325012e+12</td>\n",
       "      <td>2.663113e+12</td>\n",
       "      <td>2.923466e+12</td>\n",
       "      <td>2.693827e+12</td>\n",
       "      <td>2.646837e+12</td>\n",
       "      <td>2.862680e+12</td>\n",
       "      <td>2.681416e+12</td>\n",
       "      <td>2.808511e+12</td>\n",
       "      <td>2.849305e+12</td>\n",
       "      <td>2.433562e+12</td>\n",
       "    </tr>\n",
       "    <tr>\n",
       "      <th>South Korea</th>\n",
       "      <td>10</td>\n",
       "      <td>14037</td>\n",
       "      <td>13952</td>\n",
       "      <td>151281</td>\n",
       "      <td>29670</td>\n",
       "      <td>10.78</td>\n",
       "      <td>116</td>\n",
       "      <td>1.100700e+10</td>\n",
       "      <td>221.0</td>\n",
       "      <td>2.279353</td>\n",
       "      <td>1.011797e+12</td>\n",
       "      <td>1.122679e+12</td>\n",
       "      <td>1.002219e+12</td>\n",
       "      <td>9.019350e+11</td>\n",
       "      <td>1.094499e+12</td>\n",
       "      <td>1.202464e+12</td>\n",
       "      <td>1.222807e+12</td>\n",
       "      <td>1.305605e+12</td>\n",
       "      <td>1.411334e+12</td>\n",
       "      <td>1.382764e+12</td>\n",
       "    </tr>\n",
       "    <tr>\n",
       "      <th>Italy</th>\n",
       "      <td>11</td>\n",
       "      <td>13662</td>\n",
       "      <td>13457</td>\n",
       "      <td>154242</td>\n",
       "      <td>37030</td>\n",
       "      <td>11.29</td>\n",
       "      <td>121</td>\n",
       "      <td>6.530000e+09</td>\n",
       "      <td>109.0</td>\n",
       "      <td>33.667230</td>\n",
       "      <td>1.942634e+12</td>\n",
       "      <td>2.203053e+12</td>\n",
       "      <td>2.390729e+12</td>\n",
       "      <td>2.185160e+12</td>\n",
       "      <td>2.125058e+12</td>\n",
       "      <td>2.276292e+12</td>\n",
       "      <td>2.072823e+12</td>\n",
       "      <td>2.130491e+12</td>\n",
       "      <td>2.151733e+12</td>\n",
       "      <td>1.832868e+12</td>\n",
       "    </tr>\n",
       "    <tr>\n",
       "      <th>Spain</th>\n",
       "      <td>12</td>\n",
       "      <td>11002</td>\n",
       "      <td>10886</td>\n",
       "      <td>167492</td>\n",
       "      <td>31489</td>\n",
       "      <td>15.22</td>\n",
       "      <td>130</td>\n",
       "      <td>4.923000e+09</td>\n",
       "      <td>106.0</td>\n",
       "      <td>37.968590</td>\n",
       "      <td>1.264551e+12</td>\n",
       "      <td>1.479342e+12</td>\n",
       "      <td>1.635015e+12</td>\n",
       "      <td>1.499100e+12</td>\n",
       "      <td>1.431617e+12</td>\n",
       "      <td>1.488067e+12</td>\n",
       "      <td>1.336019e+12</td>\n",
       "      <td>1.361854e+12</td>\n",
       "      <td>1.376911e+12</td>\n",
       "      <td>1.197790e+12</td>\n",
       "    </tr>\n",
       "    <tr>\n",
       "      <th>Iran</th>\n",
       "      <td>13</td>\n",
       "      <td>10969</td>\n",
       "      <td>10872</td>\n",
       "      <td>94111</td>\n",
       "      <td>31251</td>\n",
       "      <td>8.58</td>\n",
       "      <td>85</td>\n",
       "      <td>9.172000e+09</td>\n",
       "      <td>119.0</td>\n",
       "      <td>5.707721</td>\n",
       "      <td>2.662989e+11</td>\n",
       "      <td>3.498816e+11</td>\n",
       "      <td>4.060709e+11</td>\n",
       "      <td>4.140591e+11</td>\n",
       "      <td>4.870696e+11</td>\n",
       "      <td>5.835004e+11</td>\n",
       "      <td>5.988534e+11</td>\n",
       "      <td>4.674149e+11</td>\n",
       "      <td>4.344746e+11</td>\n",
       "      <td>3.858745e+11</td>\n",
       "    </tr>\n",
       "    <tr>\n",
       "      <th>Australia</th>\n",
       "      <td>14</td>\n",
       "      <td>10616</td>\n",
       "      <td>10496</td>\n",
       "      <td>129788</td>\n",
       "      <td>22759</td>\n",
       "      <td>12.23</td>\n",
       "      <td>123</td>\n",
       "      <td>5.386000e+09</td>\n",
       "      <td>231.0</td>\n",
       "      <td>11.810810</td>\n",
       "      <td>7.475726e+11</td>\n",
       "      <td>8.537646e+11</td>\n",
       "      <td>1.055335e+12</td>\n",
       "      <td>9.271683e+11</td>\n",
       "      <td>1.142877e+12</td>\n",
       "      <td>1.390557e+12</td>\n",
       "      <td>1.538194e+12</td>\n",
       "      <td>1.567179e+12</td>\n",
       "      <td>1.459598e+12</td>\n",
       "      <td>1.345383e+12</td>\n",
       "    </tr>\n",
       "    <tr>\n",
       "      <th>Brazil</th>\n",
       "      <td>15</td>\n",
       "      <td>10599</td>\n",
       "      <td>10521</td>\n",
       "      <td>84010</td>\n",
       "      <td>20271</td>\n",
       "      <td>7.93</td>\n",
       "      <td>97</td>\n",
       "      <td>1.214900e+10</td>\n",
       "      <td>59.0</td>\n",
       "      <td>69.648030</td>\n",
       "      <td>1.107640e+12</td>\n",
       "      <td>1.397084e+12</td>\n",
       "      <td>1.695825e+12</td>\n",
       "      <td>1.667020e+12</td>\n",
       "      <td>2.208872e+12</td>\n",
       "      <td>2.616202e+12</td>\n",
       "      <td>2.465189e+12</td>\n",
       "      <td>2.472807e+12</td>\n",
       "      <td>2.455993e+12</td>\n",
       "      <td>1.803653e+12</td>\n",
       "    </tr>\n",
       "  </tbody>\n",
       "</table>\n",
       "</div>"
      ],
      "text/plain": [
       "                    Rank  Documents  Citable documents  Citations  \\\n",
       "Country                                                             \n",
       "China                  1     147887             147512     856806   \n",
       "United States          2     113579             111426    1085684   \n",
       "Japan                  3      34294              34054     275980   \n",
       "United Kingdom         4      24328              23671     278694   \n",
       "India                  5      21450              21183     179494   \n",
       "Russian Federation     6      21259              20915      45629   \n",
       "Germany                7      20898              20640     193676   \n",
       "Canada                 8      20689              20353     285554   \n",
       "France                 9      15584              15387     173959   \n",
       "South Korea           10      14037              13952     151281   \n",
       "Italy                 11      13662              13457     154242   \n",
       "Spain                 12      11002              10886     167492   \n",
       "Iran                  13      10969              10872      94111   \n",
       "Australia             14      10616              10496     129788   \n",
       "Brazil                15      10599              10521      84010   \n",
       "\n",
       "                    Self-citations  Citations per document  H index  \\\n",
       "Country                                                               \n",
       "China                       583858                    5.79      162   \n",
       "United States               370574                    9.56      259   \n",
       "Japan                        73491                    8.05      145   \n",
       "United Kingdom               52119                   11.46      159   \n",
       "India                        54929                    8.37      132   \n",
       "Russian Federation           17368                    2.15       65   \n",
       "Germany                      39615                    9.27      140   \n",
       "Canada                       53955                   13.80      165   \n",
       "France                       37411                   11.16      129   \n",
       "South Korea                  29670                   10.78      116   \n",
       "Italy                        37030                   11.29      121   \n",
       "Spain                        31489                   15.22      130   \n",
       "Iran                         31251                    8.58       85   \n",
       "Australia                    22759                   12.23      123   \n",
       "Brazil                       20271                    7.93       97   \n",
       "\n",
       "                    Energy Supply  Energy Supply per Capita  % Renewable  \\\n",
       "Country                                                                    \n",
       "China                1.271910e+11                      93.0    19.754910   \n",
       "United States        9.083800e+10                     286.0    11.570980   \n",
       "Japan                1.898400e+10                     149.0    10.232820   \n",
       "United Kingdom       7.920000e+09                     124.0    10.600470   \n",
       "India                3.319500e+10                      26.0    14.969080   \n",
       "Russian Federation   3.070900e+10                     214.0    17.288680   \n",
       "Germany              1.326100e+10                     165.0    17.901530   \n",
       "Canada               1.043100e+10                     296.0    61.945430   \n",
       "France               1.059700e+10                     166.0    17.020280   \n",
       "South Korea          1.100700e+10                     221.0     2.279353   \n",
       "Italy                6.530000e+09                     109.0    33.667230   \n",
       "Spain                4.923000e+09                     106.0    37.968590   \n",
       "Iran                 9.172000e+09                     119.0     5.707721   \n",
       "Australia            5.386000e+09                     231.0    11.810810   \n",
       "Brazil               1.214900e+10                      59.0    69.648030   \n",
       "\n",
       "                            2006          2007          2008          2009  \\\n",
       "Country                                                                      \n",
       "China               2.752132e+12  3.552182e+12  4.598206e+12  5.109954e+12   \n",
       "United States       1.385589e+13  1.447764e+13  1.471858e+13  1.441874e+13   \n",
       "Japan               4.530377e+12  4.515265e+12  5.037908e+12  5.231383e+12   \n",
       "United Kingdom      2.692613e+12  3.074360e+12  2.890564e+12  2.382826e+12   \n",
       "India               9.203165e+11  1.201112e+12  1.186953e+12  1.323940e+12   \n",
       "Russian Federation  9.899305e+11  1.299705e+12  1.660844e+12  1.222644e+12   \n",
       "Germany             3.002446e+12  3.439953e+12  3.752366e+12  3.418005e+12   \n",
       "Canada              1.315415e+12  1.464977e+12  1.549131e+12  1.371153e+12   \n",
       "France              2.325012e+12  2.663113e+12  2.923466e+12  2.693827e+12   \n",
       "South Korea         1.011797e+12  1.122679e+12  1.002219e+12  9.019350e+11   \n",
       "Italy               1.942634e+12  2.203053e+12  2.390729e+12  2.185160e+12   \n",
       "Spain               1.264551e+12  1.479342e+12  1.635015e+12  1.499100e+12   \n",
       "Iran                2.662989e+11  3.498816e+11  4.060709e+11  4.140591e+11   \n",
       "Australia           7.475726e+11  8.537646e+11  1.055335e+12  9.271683e+11   \n",
       "Brazil              1.107640e+12  1.397084e+12  1.695825e+12  1.667020e+12   \n",
       "\n",
       "                            2010          2011          2012          2013  \\\n",
       "Country                                                                      \n",
       "China               6.100620e+12  7.572554e+12  8.560547e+12  9.607224e+12   \n",
       "United States       1.496437e+13  1.551793e+13  1.615526e+13  1.669152e+13   \n",
       "Japan               5.700098e+12  6.157460e+12  6.203213e+12  5.155717e+12   \n",
       "United Kingdom      2.441173e+12  2.619700e+12  2.662085e+12  2.739819e+12   \n",
       "India               1.656617e+12  1.823050e+12  1.827638e+12  1.856722e+12   \n",
       "Russian Federation  1.524916e+12  2.051662e+12  2.210257e+12  2.297128e+12   \n",
       "Germany             3.417095e+12  3.757698e+12  3.543984e+12  3.752514e+12   \n",
       "Canada              1.613464e+12  1.788648e+12  1.824289e+12  1.842628e+12   \n",
       "France              2.646837e+12  2.862680e+12  2.681416e+12  2.808511e+12   \n",
       "South Korea         1.094499e+12  1.202464e+12  1.222807e+12  1.305605e+12   \n",
       "Italy               2.125058e+12  2.276292e+12  2.072823e+12  2.130491e+12   \n",
       "Spain               1.431617e+12  1.488067e+12  1.336019e+12  1.361854e+12   \n",
       "Iran                4.870696e+11  5.835004e+11  5.988534e+11  4.674149e+11   \n",
       "Australia           1.142877e+12  1.390557e+12  1.538194e+12  1.567179e+12   \n",
       "Brazil              2.208872e+12  2.616202e+12  2.465189e+12  2.472807e+12   \n",
       "\n",
       "                            2014          2015  \n",
       "Country                                         \n",
       "China               1.048237e+13  1.106467e+13  \n",
       "United States       1.742761e+13  1.812071e+13  \n",
       "Japan               4.850414e+12  4.394978e+12  \n",
       "United Kingdom      3.022828e+12  2.885570e+12  \n",
       "India               2.035393e+12  2.089865e+12  \n",
       "Russian Federation  2.063663e+12  1.365864e+12  \n",
       "Germany             3.890607e+12  3.375611e+12  \n",
       "Canada              1.799269e+12  1.559623e+12  \n",
       "France              2.849305e+12  2.433562e+12  \n",
       "South Korea         1.411334e+12  1.382764e+12  \n",
       "Italy               2.151733e+12  1.832868e+12  \n",
       "Spain               1.376911e+12  1.197790e+12  \n",
       "Iran                4.344746e+11  3.858745e+11  \n",
       "Australia           1.459598e+12  1.345383e+12  \n",
       "Brazil              2.455993e+12  1.803653e+12  "
      ]
     },
     "execution_count": 2,
     "metadata": {},
     "output_type": "execute_result"
    }
   ],
   "source": [
    "import pandas as pd\n",
    "import numpy as np\n",
    "import re\n",
    "\n",
    "# Load the Energy Excel sheet into Panda Dataframe\n",
    "energy = pd.ExcelFile('Energy Indicators.xls')\n",
    "energy = energy.parse('Energy', skiprows=17, skip_footer=38)\n",
    "# Delete the first two columns and the index 0 (sub-columns)\n",
    "del energy['Unnamed: 0']\n",
    "del energy['Unnamed: 1']\n",
    "a = energy.iloc[3]['Petajoules']\n",
    "# Rename the columns name\n",
    "new_cols = ['Country', 'Energy Supply', 'Energy Supply per Capita', '% Renewable']\n",
    "energy.rename(columns=dict(zip(energy.columns[0:], new_cols)),inplace=True)\n",
    "# Replace '...' with np.nan type & and multiply the 'Energy Supply' column by 1.000.000\n",
    "#energy = energy.drop(energy.index[0])\n",
    "energy = energy.replace(a, np.nan)\n",
    "energy['Energy Supply'] *= 1000000\n",
    "# Remove parenthesis and numbes and rename the following list of countries\n",
    "energy['Country'] = energy['Country'].map(lambda x: x.rstrip('1234567890'))\n",
    "energy['Country'] = energy['Country'].apply(lambda x: re.sub(r\" \\(.*\\)\", \"\", x))\n",
    "#energy['Country'] = energy['Country'].str.replace(r\" \\(.*\\)\",\"\")\n",
    "energy['Country'] = energy['Country'].replace(\"Republic of Korea\",\"South Korea\")\n",
    "energy['Country'] = energy['Country'].replace(\"United States of America\",\"United States\")\n",
    "energy['Country'] = energy['Country'].replace(\"United Kingdom of Great Britain and Northern Ireland\",\n",
    "                                              \"United Kingdom\")\n",
    "energy['Country'] = energy['Country'].replace(\"China, Hong Kong Special Administrative Region\",\"Hong Kong\")\n",
    "# Set Country column to be the index\n",
    "#energy = energy.set_index(['Country'])\n",
    "\n",
    "# ----------------------------------------------------\n",
    "\n",
    "# Load the 'world_bank.csv' sheet into Panda Dataframe\n",
    "GDP = pd.read_csv('world_bank.csv',skiprows=4)\n",
    "# Rename the 'Country Name' col by 'Countr'\n",
    "GDP = GDP.rename(columns = {'Country Name':'Country'})\n",
    "# Select the last 10 years (2006-2015) of GDP data\n",
    "GDP = GDP[['Country','2006','2007','2008','2009','2010','2011','2012','2013','2014','2015']]\n",
    "# Rename the following list of countries\n",
    "GDP['Country'] = GDP['Country'].replace({\"Korea, Rep.\": \"South Korea\",\"Iran, Islamic Rep.\": \"Iran\",                                         \"Hong Kong SAR, China\": \"Hong Kong\"})\n",
    "# Set Country column to be the index\n",
    "#GDP = GDP.set_index(['Country'])\n",
    "\n",
    "# ----------------------------------------------------\n",
    "\n",
    "# Load the 'scimagojr.xlsx' sheet into Panda Dataframe\n",
    "ScimEn = pd.ExcelFile('scimagojr-3.xlsx')\n",
    "ScimEn = ScimEn.parse('Sheet1', skip_footer=177)\n",
    "# Set Country column to be the index\n",
    "#ScimEn = ScimEn.set_index(['Country'])\n",
    "\n",
    "#energy.to_csv('teste.csv')\n",
    "#GDP.to_csv('teste2.csv')\n",
    "#print(energy.index)\n",
    "#print(energy.columns)\n",
    "#print(energy.head())\n",
    "#print(ScimEn.head())\n",
    "#GDP.head()\n",
    "ScimEn2 = pd.ExcelFile('scimagojr-3.xlsx')\n",
    "ScimEn2 = ScimEn2.parse('Sheet1')\n",
    "\n",
    "# ----------------------------------------------------\n",
    "\n",
    "def answer_one():\n",
    "    # Join the three datasets: GDP, Energy, and ScimEn into a new dataset (using the intersection of country names).\n",
    "    new_pd = pd.merge(pd.merge(ScimEn,energy,on='Country'),GDP,on='Country')\n",
    "    # Set Country column to be the index\n",
    "    new_pd = new_pd.set_index(['Country'])\n",
    "    return new_pd\n",
    "\n",
    "answer_one()"
   ]
  },
  {
   "cell_type": "markdown",
   "metadata": {},
   "source": [
    "### Question 2 (6.6%)\n",
    "The previous question joined three datasets then reduced this to just the top 15 entries. When you joined the datasets, but before you reduced this to the top 15 items, how many entries did you lose?\n",
    "\n",
    "*This function should return a single number.*"
   ]
  },
  {
   "cell_type": "code",
   "execution_count": 3,
   "metadata": {},
   "outputs": [
    {
     "data": {
      "text/html": [
       "<svg width=\"800\" height=\"300\">\n",
       "  <circle cx=\"150\" cy=\"180\" r=\"80\" fill-opacity=\"0.2\" stroke=\"black\" stroke-width=\"2\" fill=\"blue\" />\n",
       "  <circle cx=\"200\" cy=\"100\" r=\"80\" fill-opacity=\"0.2\" stroke=\"black\" stroke-width=\"2\" fill=\"red\" />\n",
       "  <circle cx=\"100\" cy=\"100\" r=\"80\" fill-opacity=\"0.2\" stroke=\"black\" stroke-width=\"2\" fill=\"green\" />\n",
       "  <line x1=\"150\" y1=\"125\" x2=\"300\" y2=\"150\" stroke=\"black\" stroke-width=\"2\" fill=\"black\" stroke-dasharray=\"5,3\"/>\n",
       "  <text  x=\"300\" y=\"165\" font-family=\"Verdana\" font-size=\"35\">Everything but this!</text>\n",
       "</svg>"
      ],
      "text/plain": [
       "<IPython.core.display.HTML object>"
      ]
     },
     "metadata": {},
     "output_type": "display_data"
    }
   ],
   "source": [
    "%%HTML\n",
    "<svg width=\"800\" height=\"300\">\n",
    "  <circle cx=\"150\" cy=\"180\" r=\"80\" fill-opacity=\"0.2\" stroke=\"black\" stroke-width=\"2\" fill=\"blue\" />\n",
    "  <circle cx=\"200\" cy=\"100\" r=\"80\" fill-opacity=\"0.2\" stroke=\"black\" stroke-width=\"2\" fill=\"red\" />\n",
    "  <circle cx=\"100\" cy=\"100\" r=\"80\" fill-opacity=\"0.2\" stroke=\"black\" stroke-width=\"2\" fill=\"green\" />\n",
    "  <line x1=\"150\" y1=\"125\" x2=\"300\" y2=\"150\" stroke=\"black\" stroke-width=\"2\" fill=\"black\" stroke-dasharray=\"5,3\"/>\n",
    "  <text  x=\"300\" y=\"165\" font-family=\"Verdana\" font-size=\"35\">Everything but this!</text>\n",
    "</svg>"
   ]
  },
  {
   "cell_type": "code",
   "execution_count": 16,
   "metadata": {
    "umich_part_id": "010",
    "umich_partlist_id": "003"
   },
   "outputs": [
    {
     "data": {
      "text/plain": [
       "156"
      ]
     },
     "execution_count": 16,
     "metadata": {},
     "output_type": "execute_result"
    }
   ],
   "source": [
    "# Copy the energy Panda Dataframe\n",
    "energy2 = energy.copy()\n",
    "\n",
    "# ----------------------------------------------------\n",
    "\n",
    "# Load the 'world_bank.csv' sheet into Panda Dataframe\n",
    "GDP2 = GDP.copy()\n",
    "\n",
    "# ----------------------------------------------------\n",
    "\n",
    "# G = len of Merge(energy2, GDP2, ScimEn2)\n",
    "# D = len of Merge_inner (energy2, GDP2) - G\n",
    "# E = len of Merge_inner (energy2, ScimEn2) - G\n",
    "# F = len of Merge_inner (GDP2, ScimEn2) - G\n",
    "# A = A - D - G - E\n",
    "# B = B - D - G - F\n",
    "# C = C - E - G - F\n",
    "\n",
    "merge3 = pd.merge(pd.merge(energy2,GDP2,on='Country'),ScimEn2,on='Country')\n",
    "inner_energy2_GDP2 = pd.merge(energy2, GDP2, how='inner', left_on='Country', right_on='Country')\n",
    "inner_energy2_ScimEn2 = pd.merge(energy2, ScimEn2, how='inner', left_on='Country', right_on='Country')\n",
    "inner_GDP2_ScimEn2 = pd.merge(GDP2, ScimEn2, how='inner', left_on='Country', right_on='Country')\n",
    "\n",
    "def answer_two():\n",
    "    G = len(merge3)\n",
    "    D = len(inner_energy2_GDP2) - G\n",
    "    E = len(inner_energy2_ScimEn2) - G\n",
    "    F = len(inner_GDP2_ScimEn2) - G\n",
    "    A = len(energy2) - D - G - E\n",
    "    B = len(GDP2) - D - G - F\n",
    "    C = len(ScimEn2) - E - G - F\n",
    "    R = A + B + C + D + E + F\n",
    "    return R\n",
    "answer_two()"
   ]
  },
  {
   "cell_type": "markdown",
   "metadata": {},
   "source": [
    "## Answer the following questions in the context of only the top 15 countries by Scimagojr Rank (aka the DataFrame returned by `answer_one()`)"
   ]
  },
  {
   "cell_type": "markdown",
   "metadata": {},
   "source": [
    "### Question 3 (6.6%)\n",
    "What is the average GDP over the last 10 years for each country? (exclude missing values from this calculation.)\n",
    "\n",
    "*This function should return a Series named `avgGDP` with 15 countries and their average GDP sorted in descending order.*"
   ]
  },
  {
   "cell_type": "code",
   "execution_count": 39,
   "metadata": {
    "scrolled": true,
    "umich_part_id": "011",
    "umich_partlist_id": "003"
   },
   "outputs": [
    {
     "data": {
      "text/plain": [
       "Country\n",
       "United States         1.563482e+13\n",
       "China                 6.940046e+12\n",
       "Japan                 5.177681e+12\n",
       "Germany               3.535028e+12\n",
       "United Kingdom        2.741154e+12\n",
       "France                2.688773e+12\n",
       "Italy                 2.131084e+12\n",
       "Brazil                1.989028e+12\n",
       "Russian Federation    1.668661e+12\n",
       "Canada                1.612860e+12\n",
       "India                 1.592161e+12\n",
       "Spain                 1.407027e+12\n",
       "Australia             1.202763e+12\n",
       "South Korea           1.165810e+12\n",
       "Iran                  4.393498e+11\n",
       "Name: avgGDP, dtype: float64"
      ]
     },
     "execution_count": 39,
     "metadata": {},
     "output_type": "execute_result"
    }
   ],
   "source": [
    "def answer_three():\n",
    "    Top15 = answer_one()\n",
    "    # The average GDP over the last 10 years for each of 15 countries using mean(axis=1) and Rename name\n",
    "    avgGDP = Top15[['2006','2007','2008','2009','2010','2011','2012','2013',\n",
    "                    '2014','2015']].mean(axis=1).rename('avgGDP').sort_values(ascending=False)\n",
    "    # Rename the columns name\n",
    "    #avgGDP.columns = ['Country','avgGDP']\n",
    "    return avgGDP\n",
    "answer_three()"
   ]
  },
  {
   "cell_type": "markdown",
   "metadata": {},
   "source": [
    "### Question 4 (6.6%)\n",
    "By how much had the GDP changed over the 10 year span for the country with the 6th largest average GDP?\n",
    "\n",
    "*This function should return a single number.*"
   ]
  },
  {
   "cell_type": "code",
   "execution_count": 82,
   "metadata": {
    "scrolled": true,
    "umich_part_id": "012",
    "umich_partlist_id": "003"
   },
   "outputs": [
    {
     "data": {
      "text/plain": [
       "192957613668.6797"
      ]
     },
     "execution_count": 82,
     "metadata": {},
     "output_type": "execute_result"
    }
   ],
   "source": [
    "def answer_four():\n",
    "    Top15 = answer_one()\n",
    "    #resp = Top15[Top15['Rank'] == 4]['2015'] - Top15[Top15['Rank'] == 4]['2006']\n",
    "    resp = Top15.iloc[3]['2015'] - Top15.iloc[3]['2006']\n",
    "    return resp\n",
    "answer_four()"
   ]
  },
  {
   "cell_type": "markdown",
   "metadata": {},
   "source": [
    "### Question 5 (6.6%)\n",
    "What is the mean `Energy Supply per Capita`?\n",
    "\n",
    "*This function should return a single number.*"
   ]
  },
  {
   "cell_type": "code",
   "execution_count": 90,
   "metadata": {
    "umich_part_id": "013",
    "umich_partlist_id": "003"
   },
   "outputs": [
    {
     "data": {
      "text/plain": [
       "157.6"
      ]
     },
     "execution_count": 90,
     "metadata": {},
     "output_type": "execute_result"
    }
   ],
   "source": [
    "def answer_five():\n",
    "    Top15 = answer_one()\n",
    "    resp = Top15[['Energy Supply per Capita']].mean()\n",
    "    return resp[0]\n",
    "answer_five()"
   ]
  },
  {
   "cell_type": "markdown",
   "metadata": {},
   "source": [
    "### Question 6 (6.6%)\n",
    "What country has the maximum % Renewable and what is the percentage?\n",
    "\n",
    "*This function should return a tuple with the name of the country and the percentage.*"
   ]
  },
  {
   "cell_type": "code",
   "execution_count": 105,
   "metadata": {
    "umich_part_id": "014",
    "umich_partlist_id": "003"
   },
   "outputs": [
    {
     "data": {
      "text/plain": [
       "('Brazil', 69.64803)"
      ]
     },
     "execution_count": 105,
     "metadata": {},
     "output_type": "execute_result"
    }
   ],
   "source": [
    "def answer_six():\n",
    "    Top15 = answer_one()\n",
    "    # resp = Top15[Top15['% Renewable'] == max(Top15['% Renewable'])]\n",
    "    # Sort the list in descending order\n",
    "    Top15.sort_values('% Renewable',ascending=False,inplace=True)\n",
    "    resp6 = (Top15.iloc[0].name, Top15.iloc[0]['% Renewable'])\n",
    "    return resp6\n",
    "answer_six()"
   ]
  },
  {
   "cell_type": "markdown",
   "metadata": {},
   "source": [
    "### Question 7 (6.6%)\n",
    "Create a new column that is the ratio of Self-Citations to Total Citations. \n",
    "What is the maximum value for this new column, and what country has the highest ratio?\n",
    "\n",
    "*This function should return a tuple with the name of the country and the ratio.*"
   ]
  },
  {
   "cell_type": "code",
   "execution_count": 109,
   "metadata": {
    "umich_part_id": "015",
    "umich_partlist_id": "003"
   },
   "outputs": [
    {
     "name": "stdout",
     "output_type": "stream",
     "text": [
      "Index(['Rank', 'Documents', 'Citable documents', 'Citations', 'Self-citations',\n",
      "       'Citations per document', 'H index', 'Energy Supply',\n",
      "       'Energy Supply per Capita', '% Renewable', '2006', '2007', '2008',\n",
      "       '2009', '2010', '2011', '2012', '2013', '2014', '2015'],\n",
      "      dtype='object')\n"
     ]
    },
    {
     "data": {
      "text/plain": [
       "('China', 0.6814354708066936)"
      ]
     },
     "execution_count": 109,
     "metadata": {},
     "output_type": "execute_result"
    }
   ],
   "source": [
    "def answer_seven():\n",
    "    Top15 = answer_one()\n",
    "    Top15['Radio Citations'] = Top15['Self-citations'] / Top15['Citations']\n",
    "    Top15.sort_values('Radio Citations', ascending=False, inplace=True)\n",
    "    resp7 = (Top15.iloc[0].name, Top15.iloc[0]['Radio Citations'])\n",
    "    return resp7\n",
    "answer_seven()"
   ]
  },
  {
   "cell_type": "markdown",
   "metadata": {},
   "source": [
    "### Question 8 (6.6%)\n",
    "\n",
    "Create a column that estimates the population using Energy Supply and Energy Supply per capita. \n",
    "What is the third most populous country according to this estimate?\n",
    "\n",
    "*This function should return a single string value.*"
   ]
  },
  {
   "cell_type": "code",
   "execution_count": 113,
   "metadata": {
    "umich_part_id": "016",
    "umich_partlist_id": "003"
   },
   "outputs": [
    {
     "data": {
      "text/plain": [
       "'United States'"
      ]
     },
     "execution_count": 113,
     "metadata": {},
     "output_type": "execute_result"
    }
   ],
   "source": [
    "def answer_eight():\n",
    "    Top15 = answer_one()\n",
    "    Top15['Population'] = Top15['Energy Supply'] / (Top15['Energy Supply per Capita'] * 1000000)\n",
    "    Top15.sort_values('Population', ascending=False, inplace=True)\n",
    "    resp8 = Top15.iloc[2].name\n",
    "    return resp8\n",
    "answer_eight()"
   ]
  },
  {
   "cell_type": "markdown",
   "metadata": {},
   "source": [
    "### Question 9 (6.6%)\n",
    "Create a column that estimates the number of citable documents per person. \n",
    "What is the correlation between the number of citable documents per capita and the energy supply per capita? Use the `.corr()` method, (Pearson's correlation).\n",
    "\n",
    "*This function should return a single number.*\n",
    "\n",
    "*(Optional: Use the built-in function `plot9()` to visualize the relationship between Energy Supply per Capita vs. Citable docs per Capita)*"
   ]
  },
  {
   "cell_type": "code",
   "execution_count": 118,
   "metadata": {
    "umich_part_id": "017",
    "umich_partlist_id": "003"
   },
   "outputs": [
    {
     "data": {
      "text/plain": [
       "0.7919971698278407"
      ]
     },
     "execution_count": 118,
     "metadata": {},
     "output_type": "execute_result"
    }
   ],
   "source": [
    "def answer_nine():\n",
    "    Top15 = answer_one()\n",
    "    Top15['PopEst'] = Top15['Energy Supply'] / Top15['Energy Supply per Capita']\n",
    "    Top15['Citable docs per Capita'] = Top15['Citable documents'] / Top15['PopEst']\n",
    "    resp9 = Top15['Citable docs per Capita'].corr(Top15['Energy Supply per Capita'])\n",
    "    return resp9\n",
    "answer_nine()"
   ]
  },
  {
   "cell_type": "code",
   "execution_count": 114,
   "metadata": {},
   "outputs": [],
   "source": [
    "def plot9():\n",
    "    import matplotlib as plt\n",
    "    %matplotlib inline\n",
    "    \n",
    "    Top15 = answer_one()\n",
    "    Top15['PopEst'] = Top15['Energy Supply'] / Top15['Energy Supply per Capita']\n",
    "    Top15['Citable docs per Capita'] = Top15['Citable documents'] / Top15['PopEst']\n",
    "    Top15.plot(x='Citable docs per Capita', y='Energy Supply per Capita', kind='scatter', xlim=[0, 0.0006])"
   ]
  },
  {
   "cell_type": "code",
   "execution_count": 115,
   "metadata": {},
   "outputs": [
    {
     "data": {
      "image/png": "[encoded data removed]",
      "text/plain": [
       "<matplotlib.figure.Figure at 0x7f46b86c1978>"
      ]
     },
     "metadata": {},
     "output_type": "display_data"
    }
   ],
   "source": [
    "#plot9() # Be sure to comment out plot9() before submitting the assignment!"
   ]
  },
  {
   "cell_type": "markdown",
   "metadata": {},
   "source": [
    "### Question 10 (6.6%)\n",
    "Create a new column with a 1 if the country's % Renewable value is at or above the median for all countries in the top 15, and a 0 if the country's % Renewable value is below the median.\n",
    "\n",
    "*This function should return a series named `HighRenew` whose index is the country name sorted in ascending order of rank.*"
   ]
  },
  {
   "cell_type": "code",
   "execution_count": 128,
   "metadata": {
    "umich_part_id": "018",
    "umich_partlist_id": "003"
   },
   "outputs": [
    {
     "data": {
      "text/plain": [
       "Country\n",
       "China                 1\n",
       "United States         0\n",
       "Japan                 0\n",
       "United Kingdom        0\n",
       "India                 0\n",
       "Russian Federation    1\n",
       "Germany               1\n",
       "Canada                1\n",
       "France                1\n",
       "South Korea           0\n",
       "Italy                 1\n",
       "Spain                 1\n",
       "Iran                  0\n",
       "Australia             0\n",
       "Brazil                1\n",
       "Name: HighRenew, dtype: int64"
      ]
     },
     "execution_count": 128,
     "metadata": {},
     "output_type": "execute_result"
    }
   ],
   "source": [
    "def answer_ten():\n",
    "    Top15 = answer_one()\n",
    "    median = Top15['% Renewable'].median()\n",
    "    Top15['HighRenew'] = [1 if x >= median else 0 for x in Top15['% Renewable']]\n",
    "    return Top15['HighRenew']\n",
    "answer_ten()"
   ]
  },
  {
   "cell_type": "markdown",
   "metadata": {},
   "source": [
    "### Question 11 (6.6%)\n",
    "Use the following dictionary to group the Countries by Continent, then create a dateframe that displays the sample size (the number of countries in each continent bin), and the sum, mean, and std deviation for the estimated population of each country.\n",
    "\n",
    "```python\n",
    "ContinentDict  = {'China':'Asia', \n",
    "                  'United States':'North America', \n",
    "                  'Japan':'Asia', \n",
    "                  'United Kingdom':'Europe', \n",
    "                  'Russian Federation':'Europe', \n",
    "                  'Canada':'North America', \n",
    "                  'Germany':'Europe', \n",
    "                  'India':'Asia',\n",
    "                  'France':'Europe', \n",
    "                  'South Korea':'Asia', \n",
    "                  'Italy':'Europe', \n",
    "                  'Spain':'Europe', \n",
    "                  'Iran':'Asia',\n",
    "                  'Australia':'Australia', \n",
    "                  'Brazil':'South America'}\n",
    "```\n",
    "\n",
    "*This function should return a DataFrame with index named Continent `['Asia', 'Australia', 'Europe', 'North America', 'South America']` and columns `['size', 'sum', 'mean', 'std']`*"
   ]
  },
  {
   "cell_type": "code",
   "execution_count": 144,
   "metadata": {
    "umich_part_id": "019",
    "umich_partlist_id": "003"
   },
   "outputs": [
    {
     "data": {
      "text/html": [
       "<div>\n",
       "<style scoped>\n",
       "    .dataframe tbody tr th:only-of-type {\n",
       "        vertical-align: middle;\n",
       "    }\n",
       "\n",
       "    .dataframe tbody tr th {\n",
       "        vertical-align: top;\n",
       "    }\n",
       "\n",
       "    .dataframe thead th {\n",
       "        text-align: right;\n",
       "    }\n",
       "</style>\n",
       "<table border=\"1\" class=\"dataframe\">\n",
       "  <thead>\n",
       "    <tr style=\"text-align: right;\">\n",
       "      <th></th>\n",
       "      <th>size</th>\n",
       "      <th>sum</th>\n",
       "      <th>mean</th>\n",
       "      <th>std</th>\n",
       "    </tr>\n",
       "    <tr>\n",
       "      <th>Continent</th>\n",
       "      <th></th>\n",
       "      <th></th>\n",
       "      <th></th>\n",
       "      <th></th>\n",
       "    </tr>\n",
       "  </thead>\n",
       "  <tbody>\n",
       "    <tr>\n",
       "      <th>Asia</th>\n",
       "      <td>5</td>\n",
       "      <td>2.898666e+09</td>\n",
       "      <td>5.797333e+08</td>\n",
       "      <td>6.790979e+08</td>\n",
       "    </tr>\n",
       "    <tr>\n",
       "      <th>Australia</th>\n",
       "      <td>1</td>\n",
       "      <td>2.331602e+07</td>\n",
       "      <td>2.331602e+07</td>\n",
       "      <td>NaN</td>\n",
       "    </tr>\n",
       "    <tr>\n",
       "      <th>Europe</th>\n",
       "      <td>6</td>\n",
       "      <td>4.579297e+08</td>\n",
       "      <td>7.632161e+07</td>\n",
       "      <td>3.464767e+07</td>\n",
       "    </tr>\n",
       "    <tr>\n",
       "      <th>North America</th>\n",
       "      <td>2</td>\n",
       "      <td>3.528552e+08</td>\n",
       "      <td>1.764276e+08</td>\n",
       "      <td>1.996696e+08</td>\n",
       "    </tr>\n",
       "    <tr>\n",
       "      <th>South America</th>\n",
       "      <td>1</td>\n",
       "      <td>2.059153e+08</td>\n",
       "      <td>2.059153e+08</td>\n",
       "      <td>NaN</td>\n",
       "    </tr>\n",
       "  </tbody>\n",
       "</table>\n",
       "</div>"
      ],
      "text/plain": [
       "               size           sum          mean           std\n",
       "Continent                                                    \n",
       "Asia              5  2.898666e+09  5.797333e+08  6.790979e+08\n",
       "Australia         1  2.331602e+07  2.331602e+07           NaN\n",
       "Europe            6  4.579297e+08  7.632161e+07  3.464767e+07\n",
       "North America     2  3.528552e+08  1.764276e+08  1.996696e+08\n",
       "South America     1  2.059153e+08  2.059153e+08           NaN"
      ]
     },
     "execution_count": 144,
     "metadata": {},
     "output_type": "execute_result"
    }
   ],
   "source": [
    "def answer_eleven():\n",
    "    Top15 = answer_one()\n",
    "    Top15['PopEst'] = (Top15['Energy Supply'] / Top15['Energy Supply per Capita']).astype(float)\n",
    "    ContinentDict  = {'China':'Asia', \n",
    "                  'United States':'North America', \n",
    "                  'Japan':'Asia', \n",
    "                  'United Kingdom':'Europe', \n",
    "                  'Russian Federation':'Europe', \n",
    "                  'Canada':'North America', \n",
    "                  'Germany':'Europe', \n",
    "                  'India':'Asia',\n",
    "                  'France':'Europe', \n",
    "                  'South Korea':'Asia', \n",
    "                  'Italy':'Europe', \n",
    "                  'Spain':'Europe', \n",
    "                  'Iran':'Asia',\n",
    "                  'Australia':'Australia', \n",
    "                  'Brazil':'South America'}\n",
    "    # Map ContinentDict by country \n",
    "    Top15 = Top15.reset_index()\n",
    "    #Top15['Continent'] = [ContinentDict[country] for country in Top15['Country']]\n",
    "    Top15['Continent'] = Top15['Country'].map(ContinentDict)\n",
    "    # Calculate each column value\n",
    "    Top15_size = Top15.groupby('Continent').agg({'Continent':np.count_nonzero})\n",
    "    Top15_sum = Top15.groupby('Continent').agg({'PopEst':np.sum})\n",
    "    Top15_mean = Top15.groupby('Continent').agg({'PopEst':np.average})\n",
    "    Top15_std = Top15.groupby('Continent').agg({'PopEst':np.std})\n",
    "    # Concatenate the values in a new table with name columns\n",
    "    resp11 = pd.concat([Top15_size, Top15_sum, Top15_mean, Top15_std],axis=1)\n",
    "    resp11.columns = ['size', 'sum', 'mean', 'std']\n",
    "    return resp11\n",
    "answer_eleven()"
   ]
  },
  {
   "cell_type": "markdown",
   "metadata": {},
   "source": [
    "### Question 12 (6.6%)\n",
    "Cut % Renewable into 5 bins. Group Top15 by the Continent, as well as these new % Renewable bins. How many countries are in each of these groups?\n",
    "\n",
    "*This function should return a __Series__ with a MultiIndex of `Continent`, then the bins for `% Renewable`. Do not include groups with no countries.*"
   ]
  },
  {
   "cell_type": "code",
   "execution_count": 154,
   "metadata": {
    "scrolled": true
   },
   "outputs": [
    {
     "data": {
      "text/plain": [
       "Continent      5 bins          \n",
       "Asia           (2.212, 15.753]     4\n",
       "               (15.753, 29.227]    1\n",
       "Australia      (2.212, 15.753]     1\n",
       "Europe         (2.212, 15.753]     1\n",
       "               (15.753, 29.227]    3\n",
       "               (29.227, 42.701]    2\n",
       "North America  (2.212, 15.753]     1\n",
       "               (56.174, 69.648]    1\n",
       "South America  (56.174, 69.648]    1\n",
       "dtype: int64"
      ]
     },
     "execution_count": 154,
     "metadata": {},
     "output_type": "execute_result"
    }
   ],
   "source": [
    "def answer_twelve():\n",
    "    Top15 = answer_one()\n",
    "    ContinentDict  = {'China':'Asia', \n",
    "                  'United States':'North America', \n",
    "                  'Japan':'Asia', \n",
    "                  'United Kingdom':'Europe', \n",
    "                  'Russian Federation':'Europe', \n",
    "                  'Canada':'North America', \n",
    "                  'Germany':'Europe', \n",
    "                  'India':'Asia',\n",
    "                  'France':'Europe', \n",
    "                  'South Korea':'Asia', \n",
    "                  'Italy':'Europe', \n",
    "                  'Spain':'Europe', \n",
    "                  'Iran':'Asia',\n",
    "                  'Australia':'Australia', \n",
    "                  'Brazil':'South America'}\n",
    "    # Map ContinentDict by country \n",
    "    Top15 = Top15.reset_index()\n",
    "    Top15['Continent'] = Top15['Country'].map(ContinentDict)\n",
    "    # Cut in 5 bins by '% Renewable'\n",
    "    Top15['5 bins'] = pd.cut(Top15['% Renewable'],5)\n",
    "    return Top15.groupby(['Continent','5 bins']).size()\n",
    "answer_twelve()"
   ]
  },
  {
   "cell_type": "markdown",
   "metadata": {},
   "source": [
    "### Question 13 (6.6%)\n",
    "Convert the Population Estimate series to a string with thousands separator (using commas). Do not round the results.\n",
    "\n",
    "e.g. 317615384.61538464 -> 317,615,384.61538464\n",
    "\n",
    "*This function should return a Series `PopEst` whose index is the country name and whose values are the population estimate string.*"
   ]
  },
  {
   "cell_type": "code",
   "execution_count": 166,
   "metadata": {
    "scrolled": true,
    "umich_part_id": "020",
    "umich_partlist_id": "003"
   },
   "outputs": [
    {
     "data": {
      "text/plain": [
       "Country\n",
       "China                 1,367,645,161.2903225\n",
       "United States          317,615,384.61538464\n",
       "Japan                  127,409,395.97315437\n",
       "United Kingdom         63,870,967.741935484\n",
       "India                 1,276,730,769.2307692\n",
       "Russian Federation            143,500,000.0\n",
       "Germany                 80,369,696.96969697\n",
       "Canada                  35,239,864.86486486\n",
       "France                  63,837,349.39759036\n",
       "South Korea            49,805,429.864253394\n",
       "Italy                  59,908,256.880733944\n",
       "Spain                    46,443,396.2264151\n",
       "Iran                    77,075,630.25210084\n",
       "Australia              23,316,017.316017315\n",
       "Brazil                 205,915,254.23728815\n",
       "Name: PopEst, dtype: object"
      ]
     },
     "execution_count": 166,
     "metadata": {},
     "output_type": "execute_result"
    }
   ],
   "source": [
    "def answer_thirteen():\n",
    "    Top15 = answer_one()\n",
    "    # Obtain the estimated population\n",
    "    Top15['PopEst'] = Top15['Energy Supply'] / Top15['Energy Supply per Capita']\n",
    "    # Use format to thousands separator (using commas)\n",
    "    Top15['PopEst'] = Top15['PopEst'].apply(lambda x : '{:,}'.format(x))\n",
    "    # Convert of float to string\n",
    "    resp13 = (Top15['PopEst']).astype(str)\n",
    "    return resp13\n",
    "answer_thirteen()"
   ]
  },
  {
   "cell_type": "markdown",
   "metadata": {},
   "source": [
    "### Optional\n",
    "\n",
    "Use the built in function `plot_optional()` to see an example visualization."
   ]
  },
  {
   "cell_type": "code",
   "execution_count": null,
   "metadata": {
    "collapsed": true,
    "scrolled": true
   },
   "outputs": [],
   "source": [
    "def plot_optional():\n",
    "    import matplotlib as plt\n",
    "    %matplotlib inline\n",
    "    Top15 = answer_one()\n",
    "    ax = Top15.plot(x='Rank', y='% Renewable', kind='scatter', \n",
    "                    c=['#e41a1c','#377eb8','#e41a1c','#4daf4a','#4daf4a','#377eb8','#4daf4a','#e41a1c',\n",
    "                       '#4daf4a','#e41a1c','#4daf4a','#4daf4a','#e41a1c','#dede00','#ff7f00'], \n",
    "                    xticks=range(1,16), s=6*Top15['2014']/10**10, alpha=.75, figsize=[16,6]);\n",
    "\n",
    "    for i, txt in enumerate(Top15.index):\n",
    "        ax.annotate(txt, [Top15['Rank'][i], Top15['% Renewable'][i]], ha='center')\n",
    "\n",
    "    print(\"This is an example of a visualization that can be created to help understand the data. \\\n",
    "This is a bubble chart showing % Renewable vs. Rank. The size of the bubble corresponds to the countries' \\\n",
    "2014 GDP, and the color corresponds to the continent.\")"
   ]
  },
  {
   "cell_type": "code",
   "execution_count": null,
   "metadata": {
    "collapsed": true
   },
   "outputs": [],
   "source": [
    "#plot_optional() # Be sure to comment out plot_optional() before submitting the assignment!"
   ]
  }
 ],
 "metadata": {
  "anaconda-cloud": {},
  "coursera": {
   "course_slug": "python-data-analysis",
   "graded_item_id": "zAr06",
   "launcher_item_id": "KSSjT",
   "part_id": "SL3fU"
  },
  "kernelspec": {
   "display_name": "Python 3",
   "language": "python",
   "name": "python3"
  },
  "language_info": {
   "codemirror_mode": {
    "name": "ipython",
    "version": 3
   },
   "file_extension": ".py",
   "mimetype": "text/x-python",
   "name": "python",
   "nbconvert_exporter": "python",
   "pygments_lexer": "ipython3",
   "version": "3.6.4"
  },
  "umich": {
   "id": "Assignment 3",
   "version": "1.5"
  }
 },
 "nbformat": 4,
 "nbformat_minor": 1
}
